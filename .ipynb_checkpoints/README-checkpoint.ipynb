{
 "cells": [
  {
   "cell_type": "markdown",
   "metadata": {},
   "source": [
    "# Machine Learning Engineer Nanodegree - Capstone Project\n",
    "Trenton Potgieter\n",
    "\n",
    "1. All data used for the project can be found in the `data` directory:\n",
    "    - __data\\data.csv__ $\\rightarrow$ input data\n",
    "    - __data\\new.csv__ $\\rightarrow$ new unseen data\n",
    "\n",
    "2. All project code was written Python (2.7.6) in iPython Notebooks:\n",
    "    - Report.ipynb\n",
    "\n",
    ">** Note:** To run the notebook, type the following from a command line:\n",
    "```\n",
    "jupyter notebook Report.ipynb\n",
    "```\n",
    "\n",
    "3. Machine learning libraries used:\n",
    "    - __scikit-learn__ (1.18.1)\n",
    "    - __pandas__ (0.19.2)\n",
    "    - __numpy__ (1.12.0)\n",
    "4. Images for the pipeline architecture can be found in the images directory:\n",
    "    - __images\\Pipeline.jpg"
   ]
  }
 ],
 "metadata": {
  "kernelspec": {
   "display_name": "Python 2",
   "language": "python",
   "name": "python2"
  },
  "language_info": {
   "codemirror_mode": {
    "name": "ipython",
    "version": 2
   },
   "file_extension": ".py",
   "mimetype": "text/x-python",
   "name": "python",
   "nbconvert_exporter": "python",
   "pygments_lexer": "ipython2",
   "version": "2.7.6"
  }
 },
 "nbformat": 4,
 "nbformat_minor": 2
}
